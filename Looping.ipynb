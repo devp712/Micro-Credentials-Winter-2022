{
  "nbformat": 4,
  "nbformat_minor": 0,
  "metadata": {
    "colab": {
      "name": "Looping.ipynb",
      "provenance": [],
      "authorship_tag": "ABX9TyNesxWa2IG0wUrdUe80eyOn",
      "include_colab_link": true
    },
    "kernelspec": {
      "name": "python3",
      "display_name": "Python 3"
    },
    "language_info": {
      "name": "python"
    }
  },
  "cells": [
    {
      "cell_type": "markdown",
      "metadata": {
        "id": "view-in-github",
        "colab_type": "text"
      },
      "source": [
        "<a href=\"https://colab.research.google.com/github/devp712/Micro-Credentials-Winter-2022/blob/main/Looping.ipynb\" target=\"_parent\"><img src=\"https://colab.research.google.com/assets/colab-badge.svg\" alt=\"Open In Colab\"/></a>"
      ]
    },
    {
      "cell_type": "code",
      "source": [
        "#Question 1 \n",
        "# Defining a list of foods\n",
        "foods = ['pizza', 'ice cream', 'burger', 'salad', 'taco']"
      ],
      "metadata": {
        "id": "pvUdzVdhatoo"
      },
      "execution_count": 32,
      "outputs": []
    },
    {
      "cell_type": "code",
      "execution_count": 3,
      "metadata": {
        "colab": {
          "base_uri": "https://localhost:8080/"
        },
        "id": "NkIdJ-xdadQG",
        "outputId": "0e65a8ec-8680-4b60-ccf0-731e44e9a289"
      },
      "outputs": [
        {
          "output_type": "stream",
          "name": "stdout",
          "text": [
            "pizza\n",
            "ice cream\n",
            "burger\n",
            "salad\n",
            "taco\n"
          ]
        }
      ],
      "source": [
        "#Question 2\n",
        "# Using a for loop to iterate through the items in foods\n",
        "for x in foods:\n",
        "  print(x)"
      ]
    },
    {
      "cell_type": "code",
      "source": [
        "#Question 3 \n",
        "# Using a for loop to iterate through the items in food then using a print function with the .tite() method to capitalize first letter of each word\n",
        "for x in foods:\n",
        "  print(x.title() + ' is one of my favorite foods!')"
      ],
      "metadata": {
        "colab": {
          "base_uri": "https://localhost:8080/"
        },
        "id": "AM9yZvMBbZhu",
        "outputId": "e0332b70-8454-4a6f-c0ca-63ba1ddc7e1f"
      },
      "execution_count": 4,
      "outputs": [
        {
          "output_type": "stream",
          "name": "stdout",
          "text": [
            "Pizza is one of my favorite foods!\n",
            "Ice Cream is one of my favorite foods!\n",
            "Burger is one of my favorite foods!\n",
            "Salad is one of my favorite foods!\n",
            "Taco is one of my favorite foods!\n"
          ]
        }
      ]
    },
    {
      "cell_type": "code",
      "source": [
        "#Question 4\n",
        "# Using a for loop with the range 1-21 to iterate through all the numbers from 0-20 that are even\n",
        "for x in range(1,21):\n",
        "  if x % 2 == 0:\n",
        "    print(x)"
      ],
      "metadata": {
        "colab": {
          "base_uri": "https://localhost:8080/"
        },
        "id": "I5_SvPvLb2I4",
        "outputId": "b9e67782-e634-469e-a298-243586343ebe"
      },
      "execution_count": 6,
      "outputs": [
        {
          "output_type": "stream",
          "name": "stdout",
          "text": [
            "2\n",
            "4\n",
            "6\n",
            "8\n",
            "10\n",
            "12\n",
            "14\n",
            "16\n",
            "18\n",
            "20\n"
          ]
        }
      ]
    },
    {
      "cell_type": "code",
      "source": [
        "#Question 5\n",
        "# Using the .sort() method to organize the foods list in alphabetical order\n",
        "foods.sort()\n",
        "print(foods)"
      ],
      "metadata": {
        "colab": {
          "base_uri": "https://localhost:8080/"
        },
        "id": "kg2khmTwcTt_",
        "outputId": "87b8c714-2282-4725-f7d5-98aa8d605583"
      },
      "execution_count": 13,
      "outputs": [
        {
          "output_type": "stream",
          "name": "stdout",
          "text": [
            "['burger', 'ice cream', 'pizza', 'salad', 'taco']\n"
          ]
        }
      ]
    },
    {
      "cell_type": "code",
      "source": [
        "#Question 6\n",
        "# Using a list slice to print out first three elements in food\n",
        "print(foods[:3])"
      ],
      "metadata": {
        "colab": {
          "base_uri": "https://localhost:8080/"
        },
        "id": "1LzQspfXdSF5",
        "outputId": "98664e20-90d2-45ea-9bd3-b3774c949367"
      },
      "execution_count": 15,
      "outputs": [
        {
          "output_type": "stream",
          "name": "stdout",
          "text": [
            "['burger', 'ice cream', 'pizza']\n"
          ]
        }
      ]
    },
    {
      "cell_type": "code",
      "source": [
        "#Question 7\n",
        "# Using a for loop to slice the last two elements in foods with one iteration\n",
        "for x in range(1):\n",
        "  print(foods[3:5])"
      ],
      "metadata": {
        "colab": {
          "base_uri": "https://localhost:8080/"
        },
        "id": "XQ6YdXEsdYPk",
        "outputId": "6866e317-79ce-4ee4-8dc3-d161699ee6e4"
      },
      "execution_count": 44,
      "outputs": [
        {
          "output_type": "stream",
          "name": "stdout",
          "text": [
            "['salad', 'taco']\n"
          ]
        }
      ]
    }
  ]
}
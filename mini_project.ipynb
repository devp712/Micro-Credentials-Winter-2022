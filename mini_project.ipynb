{
  "nbformat": 4,
  "nbformat_minor": 0,
  "metadata": {
    "colab": {
      "name": "mini project.ipynb",
      "provenance": [],
      "authorship_tag": "ABX9TyNsAZGovI/2MXlYUNM9XGvF",
      "include_colab_link": true
    },
    "kernelspec": {
      "name": "python3",
      "display_name": "Python 3"
    },
    "language_info": {
      "name": "python"
    }
  },
  "cells": [
    {
      "cell_type": "markdown",
      "metadata": {
        "id": "view-in-github",
        "colab_type": "text"
      },
      "source": [
        "<a href=\"https://colab.research.google.com/github/devp712/Micro-Credentials-Winter-2022/blob/main/mini_project.ipynb\" target=\"_parent\"><img src=\"https://colab.research.google.com/assets/colab-badge.svg\" alt=\"Open In Colab\"/></a>"
      ]
    },
    {
      "cell_type": "code",
      "execution_count": 28,
      "metadata": {
        "colab": {
          "base_uri": "https://localhost:8080/"
        },
        "id": "6nFDzWrEtWBE",
        "outputId": "2545007e-217f-45d3-8ea3-15ebc786e174"
      },
      "outputs": [
        {
          "output_type": "stream",
          "name": "stdout",
          "text": [
            "Enter 1 to check if number is odd/even/multiple of 4. \n",
            "Enter 2 to check if number divides into another number evenly: \n",
            "1\n",
            "Please enter your number: 3\n",
            "3, is an odd number!\n",
            "Do you want to check a new number(s)? (yes/no): yes\n",
            "Enter 1 to check if number is odd/even/multiple of 4. \n",
            "Enter 2 to check if number divides into another number evenly: \n",
            "2\n",
            "Please enter your first number: 6\n",
            "Please enter your second number: 3\n",
            "6, divides into 3, evenly.\n",
            "Do you want to check a new number(s)? (yes/no): no\n",
            "Program Terminated.\n"
          ]
        }
      ],
      "source": [
        "'''creating a function that takes num as a argument from main function and \n",
        "computes if number is odd,even, or multiple of 4 and returns a message.'''\n",
        "\n",
        "def odd_even(num):\n",
        "  if num%4 == 0:\n",
        "    return(f\"{num}, is a multiple of 4\")\n",
        "  elif num%2==0:\n",
        "    return(f\"{num}, is an even number!\")\n",
        "  else:\n",
        "    return(f\"{num}, is an odd number!\")\n",
        "\n",
        "'''creating a function that takes in two arguments from main function and computes \n",
        "using a if, else statement wether the first number divides into the second number evenly'''\n",
        "\n",
        "def numb_check(num,check):\n",
        "  if num%check==0:\n",
        "    return(f\"{num}, divides into {check}, evenly.\")\n",
        "  else:\n",
        "    print(f\"{num}, does not divide into {check} evenly.\")\n",
        " \n",
        "'''creating a main function that uses a while loop to continually iterate through the program.\n",
        "First within the while loop, the user is asked to enter 1 or 2 to select the corresponding function options.\n",
        "If 1 is selected an input function retrives a interger from user and then uses a print statement to pass in the \n",
        "paramenter as an argument into the odd_even function. If 2 is selected two input functions retrives two numbers \n",
        "stored in seperate variables which are then entered in a print function which passes those variables as parameters\n",
        "into the numb_check function. Afterwords, the user is then asked if they want to continue the program using an input function\n",
        "and if the user selects no, a break statement terminates the main function.'''\n",
        "\n",
        "def main():\n",
        " while True:\n",
        "  menu = int(input('''Enter 1 to check if number is odd/even/multiple of 4. \n",
        "Enter 2 to check if number divides into another number evenly: \\n'''))\n",
        "  if menu == 1:\n",
        "    num_get = int(input(\"Please enter your number: \"))\n",
        "    print(odd_even(num_get))\n",
        "  \n",
        "  if menu == 2:\n",
        "    first_num = int(input(\"Please enter your first number: \"))\n",
        "    second_num = int(input(\"Please enter your second number: \"))\n",
        "    print(numb_check(first_num,second_num))\n",
        "\n",
        "  cont = input(\"Do you want to check a new number(s)? (yes/no): \")\n",
        "  if cont == \"no\":\n",
        "    print(\"Program Terminated.\")\n",
        "    break\n",
        "\n",
        "main()"
      ]
    }
  ]
}
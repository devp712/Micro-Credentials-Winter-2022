{
  "nbformat": 4,
  "nbformat_minor": 0,
  "metadata": {
    "colab": {
      "name": "Day 3 For Loops.ipynb",
      "provenance": [],
      "collapsed_sections": [],
      "authorship_tag": "ABX9TyPmxITImLuqksyEWmipILDy",
      "include_colab_link": true
    },
    "kernelspec": {
      "name": "python3",
      "display_name": "Python 3"
    },
    "language_info": {
      "name": "python"
    }
  },
  "cells": [
    {
      "cell_type": "markdown",
      "metadata": {
        "id": "view-in-github",
        "colab_type": "text"
      },
      "source": [
        "<a href=\"https://colab.research.google.com/github/devp712/Micro-Credentials-Winter-2022/blob/main/Day_3_For_Loops.ipynb\" target=\"_parent\"><img src=\"https://colab.research.google.com/assets/colab-badge.svg\" alt=\"Open In Colab\"/></a>"
      ]
    },
    {
      "cell_type": "markdown",
      "source": [
        "# For Loop"
      ],
      "metadata": {
        "id": "41nTRrrV7Wm9"
      }
    },
    {
      "cell_type": "code",
      "source": [
        "for x in 'CUNY':\n",
        "  print(x)\n"
      ],
      "metadata": {
        "colab": {
          "base_uri": "https://localhost:8080/"
        },
        "id": "wgvZtuPd7bUj",
        "outputId": "c79f1b76-ef8a-4df7-d8fc-eb53c5d2fe2a"
      },
      "execution_count": 1,
      "outputs": [
        {
          "output_type": "stream",
          "name": "stdout",
          "text": [
            "C\n",
            "U\n",
            "N\n",
            "Y\n"
          ]
        }
      ]
    },
    {
      "cell_type": "code",
      "source": [
        "TV_Shows = ['game of thrones', 'star trek', 'stranger things']"
      ],
      "metadata": {
        "id": "TPIusk_F7cD6"
      },
      "execution_count": 3,
      "outputs": []
    },
    {
      "cell_type": "code",
      "source": [
        "for show in TV_Shows:\n",
        "  print(show.title() + ' is one of my fav TV shows') "
      ],
      "metadata": {
        "colab": {
          "base_uri": "https://localhost:8080/"
        },
        "id": "h_jGNVzZ7cHW",
        "outputId": "9a384d98-d844-492a-a783-b4bbe8d8c78b"
      },
      "execution_count": 8,
      "outputs": [
        {
          "output_type": "stream",
          "name": "stdout",
          "text": [
            "Game Of Thrones is one of my fav TV shows\n",
            "Star Trek is one of my fav TV shows\n",
            "Stranger Things is one of my fav TV shows\n"
          ]
        }
      ]
    },
    {
      "cell_type": "code",
      "source": [
        "fruits = []"
      ],
      "metadata": {
        "id": "V9REI7Q27cJ9"
      },
      "execution_count": 9,
      "outputs": []
    },
    {
      "cell_type": "code",
      "source": [
        "fruits.append('orange')\n",
        "fruits.append('pear')\n",
        "fruits.append('apple')\n",
        "fruits.append('grape')\n",
        "fruits.append('bannanas')\n",
        "fruits.append('strawberries')"
      ],
      "metadata": {
        "id": "3fiJyMOe7cMw"
      },
      "execution_count": 10,
      "outputs": []
    },
    {
      "cell_type": "code",
      "source": [
        "for x in fruits:\n",
        "  print(x.title() + ' are some of my favorite fruits!')"
      ],
      "metadata": {
        "colab": {
          "base_uri": "https://localhost:8080/"
        },
        "id": "w12FWFWo7cPv",
        "outputId": "81fb4fd1-5783-4d5e-d661-95033c8afd88"
      },
      "execution_count": 13,
      "outputs": [
        {
          "output_type": "stream",
          "name": "stdout",
          "text": [
            "Orange are some of my favorite fruits!\n",
            "Pear are some of my favorite fruits!\n",
            "Apple are some of my favorite fruits!\n",
            "Grape are some of my favorite fruits!\n",
            "Bannanas are some of my favorite fruits!\n",
            "Strawberries are some of my favorite fruits!\n"
          ]
        }
      ]
    },
    {
      "cell_type": "code",
      "source": [
        "fruits.append('lettuce')"
      ],
      "metadata": {
        "id": "Qvc-FlrT7cSS"
      },
      "execution_count": 14,
      "outputs": []
    },
    {
      "cell_type": "code",
      "source": [
        "del fruits[-1]"
      ],
      "metadata": {
        "id": "BF6NK_Sj7cVP"
      },
      "execution_count": 15,
      "outputs": []
    },
    {
      "cell_type": "code",
      "source": [
        "for x in range(1,21,5):\n",
        "  print(x+3)"
      ],
      "metadata": {
        "colab": {
          "base_uri": "https://localhost:8080/"
        },
        "id": "RH_am9bZ7cXL",
        "outputId": "72bec09f-b083-4d6a-fc75-34bd1e5b04c1"
      },
      "execution_count": 20,
      "outputs": [
        {
          "output_type": "stream",
          "name": "stdout",
          "text": [
            "4\n",
            "9\n",
            "14\n",
            "19\n"
          ]
        }
      ]
    },
    {
      "cell_type": "code",
      "source": [
        "num = list(range(21, 1, -1))\n",
        "\n",
        "# for x in list(range(1,11)):\n",
        "#   print(x)"
      ],
      "metadata": {
        "id": "L8ZnSiji7cZk"
      },
      "execution_count": 29,
      "outputs": []
    },
    {
      "cell_type": "code",
      "source": [
        "l = [1,2,3,4,5,6,7,8,9,10,23,12,15,24]"
      ],
      "metadata": {
        "id": "ZoWzQUYN7cfk"
      },
      "execution_count": 37,
      "outputs": []
    },
    {
      "cell_type": "code",
      "source": [
        "for num in l:\n",
        "    print(num)"
      ],
      "metadata": {
        "colab": {
          "base_uri": "https://localhost:8080/"
        },
        "id": "1ked9tpl7ch8",
        "outputId": "d5a2e90e-66eb-4afb-98cc-20eb1acab9ac"
      },
      "execution_count": 28,
      "outputs": [
        {
          "output_type": "stream",
          "name": "stdout",
          "text": [
            "1\n",
            "2\n",
            "3\n",
            "4\n",
            "5\n",
            "6\n",
            "7\n",
            "8\n",
            "9\n",
            "10\n"
          ]
        }
      ]
    },
    {
      "cell_type": "code",
      "source": [
        "17 % 2"
      ],
      "metadata": {
        "colab": {
          "base_uri": "https://localhost:8080/"
        },
        "id": "lXxfFSHc7cl2",
        "outputId": "b8837a39-53ee-4963-a34b-2c516a95f3dc"
      },
      "execution_count": 30,
      "outputs": [
        {
          "output_type": "execute_result",
          "data": {
            "text/plain": [
              "1"
            ]
          },
          "metadata": {},
          "execution_count": 30
        }
      ]
    },
    {
      "cell_type": "code",
      "source": [
        "for x in l:\n",
        "  if x % 2 == 0:\n",
        "    print(x)\n",
        "  else:\n",
        "    print(x, \"This is not an even number\")\n"
      ],
      "metadata": {
        "colab": {
          "base_uri": "https://localhost:8080/"
        },
        "id": "wIrzXe-d7cn3",
        "outputId": "3ced0b2e-4766-43bb-c98c-fc3995f05fa0"
      },
      "execution_count": 38,
      "outputs": [
        {
          "output_type": "stream",
          "name": "stdout",
          "text": [
            "1 This is not an even number\n",
            "2\n",
            "3 This is not an even number\n",
            "4\n",
            "5 This is not an even number\n",
            "6\n",
            "7 This is not an even number\n",
            "8\n",
            "9 This is not an even number\n",
            "10\n",
            "23 This is not an even number\n",
            "12\n",
            "15 This is not an even number\n",
            "24\n"
          ]
        }
      ]
    },
    {
      "cell_type": "code",
      "source": [
        "listSum = 0\n",
        "\n",
        "for num in l:\n",
        "  listSum = listSum + num\n",
        "\n",
        "print(listSum)"
      ],
      "metadata": {
        "colab": {
          "base_uri": "https://localhost:8080/"
        },
        "id": "6g4QUVG67ctD",
        "outputId": "0a4e7299-46cc-46f2-e606-ae0ab3c846e6"
      },
      "execution_count": 43,
      "outputs": [
        {
          "output_type": "stream",
          "name": "stdout",
          "text": [
            "129\n"
          ]
        }
      ]
    },
    {
      "cell_type": "code",
      "source": [
        "dy = {'K1':1, 'K2':2, 'K3':3, 'K4':4}"
      ],
      "metadata": {
        "id": "HjhmUdPg7cwo"
      },
      "execution_count": 44,
      "outputs": []
    },
    {
      "cell_type": "code",
      "source": [
        "for item in dy:\n",
        "  print(item)"
      ],
      "metadata": {
        "colab": {
          "base_uri": "https://localhost:8080/"
        },
        "id": "2lh4smxuGvh0",
        "outputId": "9d2317f8-19e6-4e51-8d35-a314b95f160a"
      },
      "execution_count": 46,
      "outputs": [
        {
          "output_type": "stream",
          "name": "stdout",
          "text": [
            "K1\n",
            "K2\n",
            "K3\n",
            "K4\n"
          ]
        }
      ]
    },
    {
      "cell_type": "code",
      "source": [
        "for k,v in dy.items():\n",
        "  print(k)\n",
        "  print(v)"
      ],
      "metadata": {
        "colab": {
          "base_uri": "https://localhost:8080/"
        },
        "id": "3AU8TPl7Gvmi",
        "outputId": "f6c0d31c-f0a1-4818-9247-aaef5c0bfe91"
      },
      "execution_count": 48,
      "outputs": [
        {
          "output_type": "stream",
          "name": "stdout",
          "text": [
            "K1\n",
            "1\n",
            "K2\n",
            "2\n",
            "K3\n",
            "3\n",
            "K4\n",
            "4\n"
          ]
        }
      ]
    },
    {
      "cell_type": "code",
      "source": [
        ""
      ],
      "metadata": {
        "id": "fhX2R4VOGvqL"
      },
      "execution_count": null,
      "outputs": []
    },
    {
      "cell_type": "code",
      "source": [
        ""
      ],
      "metadata": {
        "id": "OvN-lMSZGvtZ"
      },
      "execution_count": null,
      "outputs": []
    },
    {
      "cell_type": "code",
      "source": [
        ""
      ],
      "metadata": {
        "id": "0jiYShq1Gvwu"
      },
      "execution_count": null,
      "outputs": []
    },
    {
      "cell_type": "code",
      "source": [
        ""
      ],
      "metadata": {
        "id": "pGRk9vMGGvzR"
      },
      "execution_count": null,
      "outputs": []
    },
    {
      "cell_type": "code",
      "source": [
        ""
      ],
      "metadata": {
        "id": "Zs2AifYmGv3u"
      },
      "execution_count": null,
      "outputs": []
    },
    {
      "cell_type": "code",
      "source": [
        ""
      ],
      "metadata": {
        "id": "6EMWaoIRGv6U"
      },
      "execution_count": null,
      "outputs": []
    },
    {
      "cell_type": "code",
      "source": [
        ""
      ],
      "metadata": {
        "id": "ldUaxsNgGv87"
      },
      "execution_count": null,
      "outputs": []
    },
    {
      "cell_type": "code",
      "source": [
        ""
      ],
      "metadata": {
        "id": "fyNfxP4aGv_6"
      },
      "execution_count": null,
      "outputs": []
    },
    {
      "cell_type": "code",
      "source": [
        ""
      ],
      "metadata": {
        "id": "SVwjnQEUGwMf"
      },
      "execution_count": null,
      "outputs": []
    }
  ]
}
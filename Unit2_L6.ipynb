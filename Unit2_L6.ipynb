{
  "nbformat": 4,
  "nbformat_minor": 0,
  "metadata": {
    "colab": {
      "name": "Unit2 L6.ipynb",
      "provenance": [],
      "authorship_tag": "ABX9TyMLfQYIgfQsTviGiezt1ewt",
      "include_colab_link": true
    },
    "kernelspec": {
      "name": "python3",
      "display_name": "Python 3"
    },
    "language_info": {
      "name": "python"
    }
  },
  "cells": [
    {
      "cell_type": "markdown",
      "metadata": {
        "id": "view-in-github",
        "colab_type": "text"
      },
      "source": [
        "<a href=\"https://colab.research.google.com/github/devp712/Micro-Credentials-Winter-2022/blob/main/Unit2_L6.ipynb\" target=\"_parent\"><img src=\"https://colab.research.google.com/assets/colab-badge.svg\" alt=\"Open In Colab\"/></a>"
      ]
    },
    {
      "cell_type": "code",
      "execution_count": 53,
      "metadata": {
        "id": "Dt2c0ulyfTQJ"
      },
      "outputs": [],
      "source": [
        "# Question 1\n",
        "# creating a dictionairy with first name and last name as keys and the actual name as values\n",
        "name = {'first name': 'Bob','last name':'John'}"
      ]
    },
    {
      "cell_type": "code",
      "source": [
        "# Question 2\n",
        "# Using a print function with 'slices' to extact the values in the name dictionairy\n",
        "print(name['first name'], name['last name'])"
      ],
      "metadata": {
        "colab": {
          "base_uri": "https://localhost:8080/"
        },
        "id": "qz52J0AQfpCa",
        "outputId": "05517ee5-cf92-47f0-f9c9-754d149143c1"
      },
      "execution_count": 54,
      "outputs": [
        {
          "output_type": "stream",
          "name": "stdout",
          "text": [
            "Bob John\n"
          ]
        }
      ]
    },
    {
      "cell_type": "code",
      "source": [
        "# Question 3\n",
        "# using print function with strings and 'slices' to formulate a sentance\n",
        "print(\"Hello \" + name['first name'] + \" \" + name['last name'] + \"!\")"
      ],
      "metadata": {
        "colab": {
          "base_uri": "https://localhost:8080/"
        },
        "id": "OvAPo7jtf57b",
        "outputId": "7f34a588-6e6e-452b-a105-25b7d7af8f51"
      },
      "execution_count": 56,
      "outputs": [
        {
          "output_type": "stream",
          "name": "stdout",
          "text": [
            "Hello Bob John!\n"
          ]
        }
      ]
    },
    {
      "cell_type": "code",
      "source": [
        "# Question 4\n",
        "# Defining a dictionary with title, director as keys and star wars, george lucas as values\n",
        "names = {'Title': 'Star Wars', 'Director': 'George Lucas'}\n",
        "# using a print function with strings and 'slices' to formulate a sentance\n",
        "print(\"The name of this movie is \" + names['Title'] + \" and it was directed by \" + names['Director'])"
      ],
      "metadata": {
        "colab": {
          "base_uri": "https://localhost:8080/"
        },
        "id": "eptCX1m9f7KE",
        "outputId": "cb9ed7f0-cce2-4ce8-cda4-bc43875bb08a"
      },
      "execution_count": 6,
      "outputs": [
        {
          "output_type": "stream",
          "name": "stdout",
          "text": [
            "The name of this movie is Star Wars and it was directed by George Lucas\n"
          ]
        }
      ]
    },
    {
      "cell_type": "code",
      "source": [
        "# Question 5\n",
        "# creating a nested dictionairy with three dictionaires\n",
        "location = {'United States':{'State':'New York', 'City':'Albany'},\n",
        "            'United Kingdom':{'State': 'London', 'City':'London'},\n",
        "            'Canada':{'State':'Ontario', 'City':'Toronto'}}\n",
        "# using a for loop with two local variables in order to iterate through the nested dictioniary and formulate a sentance using a print function\n",
        "for x,y in location.items():\n",
        "  print(f\"{y['City']} is located in the state of {y['State']} in the country of {x}\")"
      ],
      "metadata": {
        "colab": {
          "base_uri": "https://localhost:8080/"
        },
        "id": "cN_0vtqqf7QY",
        "outputId": "e9426466-5ed1-4838-f6e7-f5efdbf045f1"
      },
      "execution_count": 20,
      "outputs": [
        {
          "output_type": "stream",
          "name": "stdout",
          "text": [
            "Albany is located in the state of New York in the country of United States\n",
            "London is located in the state of London in the country of United Kingdom\n",
            "Toronto is located in the state of Ontario in the country of Canada\n"
          ]
        }
      ]
    }
  ]
}
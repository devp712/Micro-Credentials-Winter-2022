{
  "nbformat": 4,
  "nbformat_minor": 0,
  "metadata": {
    "colab": {
      "name": "Day 2 Collection Data Types - Dictionaires.ipynb",
      "provenance": [],
      "authorship_tag": "ABX9TyOYq20qKG3OUVTySVncAT24",
      "include_colab_link": true
    },
    "kernelspec": {
      "name": "python3",
      "display_name": "Python 3"
    },
    "language_info": {
      "name": "python"
    }
  },
  "cells": [
    {
      "cell_type": "markdown",
      "metadata": {
        "id": "view-in-github",
        "colab_type": "text"
      },
      "source": [
        "<a href=\"https://colab.research.google.com/github/devp712/Micro-Credentials-Winter-2022/blob/main/Day_2_Collection_Data_Types_Dictionaires.ipynb\" target=\"_parent\"><img src=\"https://colab.research.google.com/assets/colab-badge.svg\" alt=\"Open In Colab\"/></a>"
      ]
    },
    {
      "cell_type": "markdown",
      "source": [
        "# Collection Data Types\n",
        "## Dictionaires"
      ],
      "metadata": {
        "id": "szEHIo-asjpQ"
      }
    },
    {
      "cell_type": "code",
      "source": [
        "patient_1 = {'first_name': 'John', 'last_name': 'Kimble'}"
      ],
      "metadata": {
        "id": "mKJYZ9QjuBHs"
      },
      "execution_count": 1,
      "outputs": []
    },
    {
      "cell_type": "code",
      "source": [
        "print(patient_1['first_name'])\n",
        "print(patient_1['last_name'])"
      ],
      "metadata": {
        "colab": {
          "base_uri": "https://localhost:8080/"
        },
        "id": "IZNHknc1ubh8",
        "outputId": "dc5f6622-d379-4fd0-ee37-88f9b68e9dfa"
      },
      "execution_count": 2,
      "outputs": [
        {
          "output_type": "stream",
          "name": "stdout",
          "text": [
            "John\n",
            "Kimble\n"
          ]
        }
      ]
    },
    {
      "cell_type": "code",
      "source": [
        "patient_name = patient_1['first_name']\n",
        "print(\"hello there, \" + patient_name)"
      ],
      "metadata": {
        "colab": {
          "base_uri": "https://localhost:8080/"
        },
        "id": "LRSZyQdhukkM",
        "outputId": "d04682f6-3890-4e1b-fbc3-5951a886be00"
      },
      "execution_count": 3,
      "outputs": [
        {
          "output_type": "stream",
          "name": "stdout",
          "text": [
            "hello there, John\n"
          ]
        }
      ]
    },
    {
      "cell_type": "code",
      "source": [
        "patient_2 = {}"
      ],
      "metadata": {
        "id": "WP43YjNkuks3"
      },
      "execution_count": 4,
      "outputs": []
    },
    {
      "cell_type": "code",
      "source": [
        "patient_2['first_name'] = 'John'\n",
        "patient_2['last_name'] = 'Wick'\n",
        "patient_2['Address'] = '12 Atlantic Lane'\n",
        "patient_2['Gender'] = 'Male'\n",
        "patient_2['Age'] = '24'\n",
        "patient_2['Insurance'] = 'Yes'\n",
        "patient_2['Conditions'] = 'None'"
      ],
      "metadata": {
        "id": "LO7nMq_cuky9"
      },
      "execution_count": 5,
      "outputs": []
    },
    {
      "cell_type": "code",
      "source": [
        "del patient_2['Conditions']"
      ],
      "metadata": {
        "id": "DCy7JYGYuk2K"
      },
      "execution_count": 6,
      "outputs": []
    },
    {
      "cell_type": "code",
      "source": [
        "patient_2"
      ],
      "metadata": {
        "colab": {
          "base_uri": "https://localhost:8080/"
        },
        "id": "Vt39qI8duk59",
        "outputId": "b0051461-2853-43a6-ce9d-d165111f742b"
      },
      "execution_count": 7,
      "outputs": [
        {
          "output_type": "execute_result",
          "data": {
            "text/plain": [
              "{'Address': '12 Atlantic Lane',\n",
              " 'Age': '24',\n",
              " 'Gender': 'Male',\n",
              " 'Insurance': 'Yes',\n",
              " 'first_name': 'John',\n",
              " 'last_name': 'Wick'}"
            ]
          },
          "metadata": {},
          "execution_count": 7
        }
      ]
    },
    {
      "cell_type": "code",
      "source": [
        "patient_2['Object'] = ['fruits', 12, 2.4, 'strings']"
      ],
      "metadata": {
        "id": "C2u3jIHrulC6"
      },
      "execution_count": 8,
      "outputs": []
    },
    {
      "cell_type": "code",
      "source": [
        "patient_2"
      ],
      "metadata": {
        "colab": {
          "base_uri": "https://localhost:8080/"
        },
        "id": "8Kdhec5hulL_",
        "outputId": "2cca5e91-ea52-4716-b2a0-1dab6968e29a"
      },
      "execution_count": 9,
      "outputs": [
        {
          "output_type": "execute_result",
          "data": {
            "text/plain": [
              "{'Address': '12 Atlantic Lane',\n",
              " 'Age': '24',\n",
              " 'Gender': 'Male',\n",
              " 'Insurance': 'Yes',\n",
              " 'Object': ['fruits', 12, 2.4, 'strings'],\n",
              " 'first_name': 'John',\n",
              " 'last_name': 'Wick'}"
            ]
          },
          "metadata": {},
          "execution_count": 9
        }
      ]
    },
    {
      "cell_type": "code",
      "source": [
        "del patient_2['Object']"
      ],
      "metadata": {
        "id": "Mz3r2RwVulPu"
      },
      "execution_count": 10,
      "outputs": []
    },
    {
      "cell_type": "code",
      "source": [
        "patient_2"
      ],
      "metadata": {
        "colab": {
          "base_uri": "https://localhost:8080/"
        },
        "id": "ctjZ1VNUulTN",
        "outputId": "e077c596-d268-4218-c6a4-150cccd81b80"
      },
      "execution_count": 11,
      "outputs": [
        {
          "output_type": "execute_result",
          "data": {
            "text/plain": [
              "{'Address': '12 Atlantic Lane',\n",
              " 'Age': '24',\n",
              " 'Gender': 'Male',\n",
              " 'Insurance': 'Yes',\n",
              " 'first_name': 'John',\n",
              " 'last_name': 'Wick'}"
            ]
          },
          "metadata": {},
          "execution_count": 11
        }
      ]
    },
    {
      "cell_type": "code",
      "source": [
        "patient_2['Object'] = ['fruits', 12, 2.4, 'strings']"
      ],
      "metadata": {
        "id": "0w3fTqREulYv"
      },
      "execution_count": 14,
      "outputs": []
    },
    {
      "cell_type": "code",
      "source": [
        "patient_2['Object']"
      ],
      "metadata": {
        "colab": {
          "base_uri": "https://localhost:8080/"
        },
        "id": "W_3yH9zMxdcZ",
        "outputId": "88978fca-8c5a-4966-8419-4586228d6ca7"
      },
      "execution_count": 15,
      "outputs": [
        {
          "output_type": "execute_result",
          "data": {
            "text/plain": [
              "['fruits', 12, 2.4, 'strings']"
            ]
          },
          "metadata": {},
          "execution_count": 15
        }
      ]
    },
    {
      "cell_type": "code",
      "source": [
        "patient_2['Object'][0][2]"
      ],
      "metadata": {
        "colab": {
          "base_uri": "https://localhost:8080/",
          "height": 35
        },
        "id": "k1u_3VtFxdfm",
        "outputId": "f02e1a1c-0b73-4961-b406-4046afdf0a38"
      },
      "execution_count": 17,
      "outputs": [
        {
          "output_type": "execute_result",
          "data": {
            "application/vnd.google.colaboratory.intrinsic+json": {
              "type": "string"
            },
            "text/plain": [
              "'u'"
            ]
          },
          "metadata": {},
          "execution_count": 17
        }
      ]
    },
    {
      "cell_type": "code",
      "source": [
        "patient_2['Object'][0].upper()"
      ],
      "metadata": {
        "colab": {
          "base_uri": "https://localhost:8080/",
          "height": 35
        },
        "id": "hsxjSKGkxdkD",
        "outputId": "9188c216-b788-46ce-9104-91890bdb64f9"
      },
      "execution_count": 18,
      "outputs": [
        {
          "output_type": "execute_result",
          "data": {
            "application/vnd.google.colaboratory.intrinsic+json": {
              "type": "string"
            },
            "text/plain": [
              "'FRUITS'"
            ]
          },
          "metadata": {},
          "execution_count": 18
        }
      ]
    },
    {
      "cell_type": "code",
      "source": [
        "patient_3 = {'Name': 'Jack', 'Last Name': 'Sparrow', 'MRN': '00000', 'DOB': '01011845'}"
      ],
      "metadata": {
        "id": "cDESvIVYxdm_"
      },
      "execution_count": 21,
      "outputs": []
    },
    {
      "cell_type": "code",
      "source": [
        "print(f'The first name of the Patient is {patient_3[\"Name\"]}')\n",
        "print(f'The first name of the Patient is {patient_3[\"Last Name\"]}')\n",
        "print(f'The first name of the Patient is {patient_3[\"MRN\"]}')\n",
        "print(f'The first name of the Patient is {patient_3[\"DOB\"]}')"
      ],
      "metadata": {
        "colab": {
          "base_uri": "https://localhost:8080/"
        },
        "id": "OA0bFEhVxdqK",
        "outputId": "7f8f1ef0-6b1c-4059-843f-3c9aead369c5"
      },
      "execution_count": 25,
      "outputs": [
        {
          "output_type": "stream",
          "name": "stdout",
          "text": [
            "The first name of the Patient is Jack\n",
            "The first name of the Patient is Sparrow\n",
            "The first name of the Patient is 00000\n",
            "The first name of the Patient is 01011845\n"
          ]
        }
      ]
    },
    {
      "cell_type": "markdown",
      "source": [
        "# Nesting with Dictionaires"
      ],
      "metadata": {
        "id": "UZLLiRJU0MpP"
      }
    },
    {
      "cell_type": "code",
      "source": [
        "d = {'key1':{'nestkey':{'subnestkey':'value'}}}"
      ],
      "metadata": {
        "id": "-UWBR12wxdsf"
      },
      "execution_count": 26,
      "outputs": []
    },
    {
      "cell_type": "code",
      "source": [
        "d = {'key1':1, 'key2':2, 'key3':3}"
      ],
      "metadata": {
        "id": "HE5kjzNhxdwT"
      },
      "execution_count": 27,
      "outputs": []
    },
    {
      "cell_type": "code",
      "source": [
        "d.keys()"
      ],
      "metadata": {
        "colab": {
          "base_uri": "https://localhost:8080/"
        },
        "id": "_zOBtDcexdzb",
        "outputId": "21caab92-15a8-49ee-99d1-062014b731f7"
      },
      "execution_count": 28,
      "outputs": [
        {
          "output_type": "execute_result",
          "data": {
            "text/plain": [
              "dict_keys(['key1', 'key2', 'key3'])"
            ]
          },
          "metadata": {},
          "execution_count": 28
        }
      ]
    },
    {
      "cell_type": "code",
      "source": [
        "d.values()"
      ],
      "metadata": {
        "colab": {
          "base_uri": "https://localhost:8080/"
        },
        "id": "1o7J-dU9xd11",
        "outputId": "787dcc7f-2367-48bc-ccdc-b5f31818f015"
      },
      "execution_count": 29,
      "outputs": [
        {
          "output_type": "execute_result",
          "data": {
            "text/plain": [
              "dict_values([1, 2, 3])"
            ]
          },
          "metadata": {},
          "execution_count": 29
        }
      ]
    },
    {
      "cell_type": "code",
      "source": [
        ""
      ],
      "metadata": {
        "id": "mwuIk4e1xd4e"
      },
      "execution_count": null,
      "outputs": []
    },
    {
      "cell_type": "code",
      "source": [
        ""
      ],
      "metadata": {
        "id": "7mVo3pVdxd7u"
      },
      "execution_count": null,
      "outputs": []
    },
    {
      "cell_type": "code",
      "source": [
        ""
      ],
      "metadata": {
        "id": "Z7JudYwcxd-2"
      },
      "execution_count": null,
      "outputs": []
    }
  ]
}